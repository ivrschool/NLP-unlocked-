{
 "cells": [
  {
   "cell_type": "code",
   "execution_count": 1,
   "id": "3723c383",
   "metadata": {},
   "outputs": [],
   "source": [
    "import torch\n",
    "import torchtext"
   ]
  },
  {
   "cell_type": "code",
   "execution_count": 2,
   "id": "880b6b5e",
   "metadata": {},
   "outputs": [],
   "source": [
    "# train_data = [\n",
    "#     [\"EU\", \"B-ORG\"],\n",
    "#     [\"rejects\", \"O\"],\n",
    "#     [\"German\", \"B-MISC\"],\n",
    "#     [\"call\", \"O\"],\n",
    "#     [\"to\", \"O\"],\n",
    "#     [\"boycott\", \"O\"],\n",
    "#     [\"British\", \"B-MISC\"],\n",
    "#     [\"lamb\", \"O\"],\n",
    "#     [\".\", \"O\"],\n",
    "#     [\"Peter\", \"B-PER\"],\n",
    "#     [\"Blackburn\", \"I-PER\"],\n",
    "# ]\n",
    "\n",
    "# test_data = [\n",
    "#     [\"EU\", \"B-ORG\"],\n",
    "#     [\"rejects\", \"O\"],\n",
    "#     [\"German\", \"B-MISC\"],\n",
    "#     [\"call\", \"O\"],\n",
    "#     [\"to\", \"O\"],\n",
    "#     [\"boycott\", \"O\"],\n",
    "#     [\"British\", \"B-MISC\"],\n",
    "#     [\"lamb\", \"O\"],\n",
    "#     [\".\", \"O\"],\n",
    "#     [\"Peter\", \"B-PER\"],\n",
    "#     [\"Blackburn\", \"I-PER\"],\n",
    "# ]"
   ]
  },
  {
   "cell_type": "code",
   "execution_count": 76,
   "id": "aeb5cce4",
   "metadata": {},
   "outputs": [],
   "source": [
    "import pandas as pd\n",
    "\n",
    "train_data = [\n",
    "    [\"EU\", \"B-ORG\"],\n",
    "    [\"rejects\", \"O\"],\n",
    "    [\"German\", \"B-MISC\"],\n",
    "    [\"call\", \"O\"],\n",
    "    [\"to\", \"O\"],\n",
    "    [\"boycott\", \"O\"],\n",
    "    [\"British\", \"B-MISC\"],\n",
    "    [\"lamb\", \"O\"],\n",
    "    [\".\", \"O\"],\n",
    "    [\"Peter\", \"B-PER\"],\n",
    "    [\"Blackburn\", \"I-PER\"],\n",
    "]\n",
    "\n",
    "test_data = [\n",
    "    [\"EU\", \"B-ORG\"],\n",
    "    [\"rejects\", \"O\"],\n",
    "    [\"German\", \"B-MISC\"],\n",
    "    [\"call\", \"O\"],\n",
    "    [\"to\", \"O\"],\n",
    "    [\"boycott\", \"O\"],\n",
    "    [\"British\", \"B-MISC\"],\n",
    "    [\"lamb\", \"O\"],\n",
    "    [\".\", \"O\"],\n",
    "    [\"Peter\", \"B-PER\"],\n",
    "    [\"Blackburn\", \"I-PER\"],\n",
    "]\n",
    "\n",
    "# Write train_data and test_data to CSV files\n",
    "train_df = pd.DataFrame(train_data, columns=[\"word\", \"tag\"])\n",
    "train_df.to_csv(\"train_data.csv\", index=False)\n",
    "\n",
    "test_df = pd.DataFrame(test_data, columns=[\"word\", \"tag\"])\n",
    "test_df.to_csv(\"test_data.csv\", index=False)\n"
   ]
  },
  {
   "cell_type": "code",
   "execution_count": 77,
   "id": "ddae36d9",
   "metadata": {},
   "outputs": [],
   "source": [
    "# Define the fields for the dataset\n",
    "WORD = torchtext.legacy.data.Field(sequential=True, batch_first=True)\n",
    "TAG = torchtext.legacy.data.Field(sequential=True, batch_first=True,is_target=True)\n",
    "\n",
    "# Load the sample data\n",
    "train = torchtext.legacy.data.TabularDataset(\n",
    "    path=\"train_data.csv\",\n",
    "    format=\"csv\",\n",
    "    fields=[(\"word\", WORD), (\"tag\", TAG)],\n",
    ")\n",
    "test = torchtext.legacy.data.TabularDataset(\n",
    "    path=\"test_data.csv\",\n",
    "    format=\"csv\",\n",
    "    fields=[(\"word\", WORD), (\"tag\", TAG)],\n",
    ")"
   ]
  },
  {
   "cell_type": "code",
   "execution_count": 78,
   "id": "2fb2b6f1",
   "metadata": {},
   "outputs": [],
   "source": [
    "# Build the vocabulary for the fields\n",
    "WORD.build_vocab(train, test)\n",
    "TAG.build_vocab(train, test)"
   ]
  },
  {
   "cell_type": "code",
   "execution_count": 79,
   "id": "de92e1a9",
   "metadata": {},
   "outputs": [],
   "source": [
    "# Define the model\n",
    "class NERModel(torch.nn.Module):\n",
    "    def __init__(self, vocab_size, tag_size, embedding_dim, hidden_dim):\n",
    "        super().__init__()\n",
    "        self.embeddings = torch.nn.Embedding(vocab_size, embedding_dim)\n",
    "        self.lstm = torch.nn.LSTM(embedding_dim, hidden_dim)\n",
    "        self.hidden2tag = torch.nn.Linear(hidden_dim, tag_size)\n",
    "\n",
    "    def forward(self, words):\n",
    "        embeds = self.embeddings(words)\n",
    "        lstm_out, _ = self.lstm(embeds)\n",
    "        tag_scores = self.hidden2tag(lstm_out)\n",
    "        return tag_scores\n",
    "\n",
    "# Initialize the model\n",
    "model = NERModel(\n",
    "    vocab_size=len(WORD.vocab),\n",
    "    tag_size=len(TAG.vocab),\n",
    "    embedding_dim=100,\n",
    "    hidden_dim=128,\n",
    ")"
   ]
  },
  {
   "cell_type": "code",
   "execution_count": 80,
   "id": "f46f2985",
   "metadata": {},
   "outputs": [],
   "source": [
    "# Specify the loss function and the optimizer\n",
    "loss_function = torch.nn.CrossEntropyLoss()\n",
    "optimizer = torch.optim.Adam(model.parameters())"
   ]
  },
  {
   "cell_type": "code",
   "execution_count": 93,
   "id": "45ed28b9",
   "metadata": {},
   "outputs": [
    {
     "name": "stdout",
     "output_type": "stream",
     "text": [
      "epoch:  0  loss:  1.7783843278884888\n"
     ]
    }
   ],
   "source": [
    "\n",
    "# Train the model\n",
    "for epoch in range(1):\n",
    "    for example in train:\n",
    "        # Clear the gradients\n",
    "        words = example.word\n",
    "        tags = example.tag\n",
    "      \n",
    "        model.zero_grad()\n",
    "\n",
    "        # Convert words and tags to tensors\n",
    "        words = WORD.process([words]) # The argument must be a list of lists\n",
    "        tags = TAG.process([tags])\n",
    "\n",
    "        # Compute the forward pass\n",
    "        tag_scores = model(words)\n",
    "\n",
    "        # Compute the loss\n",
    "        loss = loss_function(tag_scores.view(-1, len(TAG.vocab)), tags.view(-1)) # Reshape the inputs to be 2D and 1D, respectively\n",
    "        # Compute the gradients\n",
    "        loss.backward()\n",
    "\n",
    "        # Update the model parameters\n",
    "        optimizer.step()\n",
    "        \n",
    "    print(\"epoch: \", epoch, \" loss: \", loss.item())\n",
    "\n"
   ]
  },
  {
   "cell_type": "code",
   "execution_count": 88,
   "id": "775ce95b",
   "metadata": {},
   "outputs": [
    {
     "data": {
      "text/plain": [
       "['rejects']"
      ]
     },
     "execution_count": 88,
     "metadata": {},
     "output_type": "execute_result"
    }
   ],
   "source": [
    "train[2].word"
   ]
  },
  {
   "cell_type": "code",
   "execution_count": 89,
   "id": "51177427",
   "metadata": {},
   "outputs": [
    {
     "data": {
      "text/plain": [
       "tensor([[11]])"
      ]
     },
     "execution_count": 89,
     "metadata": {},
     "output_type": "execute_result"
    }
   ],
   "source": [
    " WORD.process([train[2].word])"
   ]
  },
  {
   "cell_type": "code",
   "execution_count": 90,
   "id": "0b74882e",
   "metadata": {},
   "outputs": [
    {
     "data": {
      "text/plain": [
       "tensor([[[-0.1385, -0.1008,  0.6222,  0.0114,  0.0293, -0.1196, -0.1297,\n",
       "          -0.0929]]], grad_fn=<AddBackward0>)"
      ]
     },
     "execution_count": 90,
     "metadata": {},
     "output_type": "execute_result"
    }
   ],
   "source": [
    "model( WORD.process([train[2].word]))"
   ]
  },
  {
   "cell_type": "code",
   "execution_count": 95,
   "id": "a9e39fcd",
   "metadata": {},
   "outputs": [
    {
     "name": "stdout",
     "output_type": "stream",
     "text": [
      "Average accuracy: 1.0\n"
     ]
    }
   ],
   "source": [
    "# Evaluate the model\n",
    "accuracy = 0\n",
    "for example in test:\n",
    "    words = example.word\n",
    "    tags = example.tag\n",
    "    # Convert words and tags to tensors\n",
    "    words = WORD.process([words]) # The argument must be a list of lists\n",
    "    tags = TAG.process([tags])\n",
    "    # Compute the forward pass\n",
    "    tag_scores = model(words)\n",
    "\n",
    "    # Get the predicted tags\n",
    "    predicted_tags = tag_scores.argmax()\n",
    "\n",
    "    # Update the accuracy\n",
    "    accuracy += (predicted_tags == tags).sum().item()\n",
    "\n",
    "# Print the average accuracy\n",
    "print(f\"Average accuracy: {accuracy / len(test)}\")"
   ]
  },
  {
   "cell_type": "code",
   "execution_count": 110,
   "id": "4e08ac50",
   "metadata": {},
   "outputs": [
    {
     "name": "stdout",
     "output_type": "stream",
     "text": [
      "word:  word      test_tag:  tag      pred_tag:  tag\n",
      "word:  EU      test_tag:  B-ORG      pred_tag:  B-ORG\n",
      "word:  rejects      test_tag:  O      pred_tag:  O\n",
      "word:  German      test_tag:  B-MISC      pred_tag:  B-MISC\n",
      "word:  call      test_tag:  O      pred_tag:  O\n",
      "word:  to      test_tag:  O      pred_tag:  O\n",
      "word:  boycott      test_tag:  O      pred_tag:  O\n",
      "word:  British      test_tag:  B-MISC      pred_tag:  B-MISC\n",
      "word:  lamb      test_tag:  O      pred_tag:  O\n",
      "word:  .      test_tag:  O      pred_tag:  O\n",
      "word:  Peter      test_tag:  B-PER      pred_tag:  B-PER\n",
      "word:  Blackburn      test_tag:  I-PER      pred_tag:  I-PER\n",
      "Average accuracy: 1.0\n"
     ]
    }
   ],
   "source": [
    "# Evaluate the model\n",
    "accuracy = 0\n",
    "for example in test:\n",
    "    words = example.word\n",
    "    tags = example.tag\n",
    "    # Convert words and tags to tensors\n",
    "    words = WORD.process([words]) # The argument must be a list of lists\n",
    "    tags = TAG.process([tags])\n",
    "    # Compute the forward pass\n",
    "    \n",
    "    tag_scores = model(words)\n",
    "\n",
    "    # Get the predicted tags\n",
    "    _, predicted_tags = torch.max(tag_scores, dim=2)\n",
    "    \n",
    "        # Convert the tensor to a list of integers\n",
    "    orig_tags = tags.tolist()[0]\n",
    "    pred_tags = predicted_tags.tolist()[0]\n",
    "    word = words.tolist()[0]\n",
    "\n",
    "    # Convert each integer to its corresponding string representation\n",
    "    orig_tags = [TAG.vocab.itos[i] for i in orig_tags]\n",
    "    pred_tags = [TAG.vocab.itos[i] for i in pred_tags]\n",
    "    word = [WORD.vocab.itos[i] for i in word]\n",
    "    \n",
    "    #print prediction Vs real\n",
    "    print(\"word: \", word[0], \"     test_tag: \", orig_tags[0], \"     pred_tag: \", pred_tags[0])\n",
    "\n",
    "    # Update the accuracy\n",
    "    correct_predictions = (predicted_tags == tags).sum().item()\n",
    "    total_predictions = len(predicted_tags)\n",
    "    accuracy += correct_predictions / total_predictions\n",
    "\n",
    "# Print the average accuracy\n",
    "print(f\"Average accuracy: {accuracy / len(test)}\")\n"
   ]
  },
  {
   "cell_type": "code",
   "execution_count": 100,
   "id": "382eaaae",
   "metadata": {},
   "outputs": [
    {
     "data": {
      "text/plain": [
       "1"
      ]
     },
     "execution_count": 100,
     "metadata": {},
     "output_type": "execute_result"
    }
   ],
   "source": [
    "len(predicted_tags)"
   ]
  },
  {
   "cell_type": "code",
   "execution_count": 103,
   "id": "27896e05",
   "metadata": {},
   "outputs": [
    {
     "data": {
      "text/plain": [
       "tensor([[6]])"
      ]
     },
     "execution_count": 103,
     "metadata": {},
     "output_type": "execute_result"
    }
   ],
   "source": [
    "tags"
   ]
  },
  {
   "cell_type": "code",
   "execution_count": 104,
   "id": "74a89da3",
   "metadata": {},
   "outputs": [
    {
     "ename": "AttributeError",
     "evalue": "'Field' object has no attribute 'decode'",
     "output_type": "error",
     "traceback": [
      "\u001b[0;31m---------------------------------------------------------------------------\u001b[0m",
      "\u001b[0;31mAttributeError\u001b[0m                            Traceback (most recent call last)",
      "Cell \u001b[0;32mIn [104], line 1\u001b[0m\n\u001b[0;32m----> 1\u001b[0m decoded_tags \u001b[38;5;241m=\u001b[39m \u001b[43mTAG\u001b[49m\u001b[38;5;241;43m.\u001b[39;49m\u001b[43mdecode\u001b[49m(tags)\n",
      "\u001b[0;31mAttributeError\u001b[0m: 'Field' object has no attribute 'decode'"
     ]
    }
   ],
   "source": [
    "decoded_tags = TAG.decode(tags)"
   ]
  },
  {
   "cell_type": "code",
   "execution_count": 105,
   "id": "bb544592",
   "metadata": {},
   "outputs": [],
   "source": [
    "# Convert the tensor to a list of integers\n",
    "tags = tags.tolist()[0]\n",
    "\n",
    "# Convert each integer to its corresponding string representation\n",
    "tags = [TAG.vocab.itos[i] for i in tags]"
   ]
  },
  {
   "cell_type": "code",
   "execution_count": 106,
   "id": "6c73283f",
   "metadata": {},
   "outputs": [
    {
     "data": {
      "text/plain": [
       "['I-PER']"
      ]
     },
     "execution_count": 106,
     "metadata": {},
     "output_type": "execute_result"
    }
   ],
   "source": [
    "tags"
   ]
  },
  {
   "cell_type": "code",
   "execution_count": 111,
   "id": "969359d1",
   "metadata": {},
   "outputs": [
    {
     "ename": "AttributeError",
     "evalue": "'Field' object has no attribute 'reverse'",
     "output_type": "error",
     "traceback": [
      "\u001b[0;31m---------------------------------------------------------------------------\u001b[0m",
      "\u001b[0;31mAttributeError\u001b[0m                            Traceback (most recent call last)",
      "Cell \u001b[0;32mIn [111], line 8\u001b[0m\n\u001b[1;32m      5\u001b[0m tags \u001b[38;5;241m=\u001b[39m TAG\u001b[38;5;241m.\u001b[39mprocess([tags])\n\u001b[1;32m      7\u001b[0m \u001b[38;5;66;03m# Convert tensor back to strings\u001b[39;00m\n\u001b[0;32m----> 8\u001b[0m tag_strings \u001b[38;5;241m=\u001b[39m \u001b[43mTAG\u001b[49m\u001b[38;5;241;43m.\u001b[39;49m\u001b[43mreverse\u001b[49m(tags)\n\u001b[1;32m     10\u001b[0m \u001b[38;5;66;03m# The returned value is a list of lists, so you need to get the first element to get the list of tags\u001b[39;00m\n\u001b[1;32m     11\u001b[0m tag_strings \u001b[38;5;241m=\u001b[39m tag_strings[\u001b[38;5;241m0\u001b[39m]\n",
      "\u001b[0;31mAttributeError\u001b[0m: 'Field' object has no attribute 'reverse'"
     ]
    }
   ],
   "source": [
    "for example in test:\n",
    "    words = example.word\n",
    "    tags = example.tag\n",
    "# Convert tags to tensor\n",
    "tags = TAG.process([tags])\n",
    "\n",
    "# Convert tensor back to strings\n",
    "tag_strings = TAG.reverse(tags)\n",
    "\n",
    "# The returned value is a list of lists, so you need to get the first element to get the list of tags\n",
    "tag_strings = tag_strings[0]\n",
    "\n",
    "tag_strings"
   ]
  },
  {
   "cell_type": "code",
   "execution_count": null,
   "id": "f385493d",
   "metadata": {},
   "outputs": [],
   "source": []
  }
 ],
 "metadata": {
  "kernelspec": {
   "display_name": "Python 3 (ipykernel)",
   "language": "python",
   "name": "python3"
  },
  "language_info": {
   "codemirror_mode": {
    "name": "ipython",
    "version": 3
   },
   "file_extension": ".py",
   "mimetype": "text/x-python",
   "name": "python",
   "nbconvert_exporter": "python",
   "pygments_lexer": "ipython3",
   "version": "3.9.13"
  }
 },
 "nbformat": 4,
 "nbformat_minor": 5
}
