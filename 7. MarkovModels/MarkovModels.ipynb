{
 "cells": [
  {
   "cell_type": "code",
   "execution_count": 1,
   "id": "7b7ac798",
   "metadata": {},
   "outputs": [],
   "source": [
    "import torch\n",
    "import numpy as np\n",
    "import matplotlib.pyplot as plt\n",
    "\n",
    "torch.manual_seed(42)\n",
    "np.random.seed(42)"
   ]
  },
  {
   "cell_type": "code",
   "execution_count": 2,
   "id": "69816f94",
   "metadata": {},
   "outputs": [],
   "source": [
    "def generate_sequence():\n",
    "    sequence = [\"I\", \"had\", \"a\", \"sandwich\", \"for\", \"lunch\", \"yesterday\", \"and\", \"it\", \"was\", \"delicious\"]\n",
    "    return sequence"
   ]
  },
  {
   "cell_type": "code",
   "execution_count": 3,
   "id": "6b09bad7",
   "metadata": {},
   "outputs": [],
   "source": [
    "# class MarkovModel(torch.nn.Module):\n",
    "#     def __init__(self, num_words, num_hidden):\n",
    "#         super().__init__()\n",
    "#         self.linear = torch.nn.Linear(num_hidden, num_words)\n",
    "\n",
    "#     def forward(self, x):\n",
    "#         return self.linear(x)"
   ]
  },
  {
   "cell_type": "code",
   "execution_count": 7,
   "id": "4f9ead3d",
   "metadata": {},
   "outputs": [],
   "source": [
    "class MarkovModel(torch.nn.Module):\n",
    "    def __init__(self, num_words, num_hidden):\n",
    "        super().__init__()\n",
    "        self.embedding = torch.nn.Embedding(num_words, num_hidden)\n",
    "        self.linear = torch.nn.Linear(num_hidden, num_words)\n",
    "\n",
    "    def forward(self, x):\n",
    "        x = self.embedding(x)\n",
    "        return self.linear(x)"
   ]
  },
  {
   "cell_type": "code",
   "execution_count": 8,
   "id": "32e73c1f",
   "metadata": {},
   "outputs": [],
   "source": [
    "# Generate the training data\n",
    "sequence = generate_sequence()\n",
    "# Create a vocabulary of unique words in the sequence\n",
    "vocab = list(set(sequence))\n",
    "\n",
    "# Create a mapping from word to index\n",
    "word_to_index = {word: index for index, word in enumerate(vocab)}\n",
    "\n",
    "# Create a mapping from index to word\n",
    "index_to_word = {index: word for index, word in enumerate(vocab)}"
   ]
  },
  {
   "cell_type": "code",
   "execution_count": null,
   "id": "05aeba81",
   "metadata": {},
   "outputs": [],
   "source": []
  },
  {
   "cell_type": "code",
   "execution_count": 10,
   "id": "4dcc0bc1",
   "metadata": {},
   "outputs": [],
   "source": [
    "def train_model(model, sequence, learning_rate=1e-2, epochs=100):\n",
    "    model.train()\n",
    "    optimizer = torch.optim.Adam(model.parameters(), lr=learning_rate)\n",
    "    criterion = torch.nn.CrossEntropyLoss()\n",
    "    losses = []\n",
    "    accuracies = []\n",
    "\n",
    "    for epoch in range(1, epochs + 1):\n",
    "        total_loss = 0\n",
    "        total_accuracy = 0\n",
    "\n",
    "        # Loop through the words in the sequence\n",
    "        for i in range(len(sequence) - 1):\n",
    "#             # Convert the current and next words to tensors\n",
    "#             current_word = torch.tensor([sequence[i]], dtype=torch.long)\n",
    "#             next_word = torch.tensor([sequence[i + 1]], dtype=torch.long)\n",
    "\n",
    "            # Convert the current and next words to integer indices\n",
    "            current_word = torch.tensor([word_to_index[sequence[i]]], dtype=torch.long)\n",
    "            next_word = torch.tensor([word_to_index[sequence[i + 1]]], dtype=torch.long)\n",
    "\n",
    "            # Predict the probability of the next word\n",
    "            logits = model(current_word)\n",
    "\n",
    "            # Compute the cross-entropy loss and update the totals\n",
    "            loss = criterion(logits, next_word)\n",
    "            total_loss += loss.item()\n",
    "\n",
    "            # Compute the accuracy and update the totals\n",
    "            _, predicted = torch.max(logits, dim=1)\n",
    "            total_accuracy += (predicted == next_word).sum().item()\n",
    "\n",
    "            # Backpropagate the loss and update the model parameters\n",
    "            optimizer.zero_grad()\n",
    "            loss.backward()\n",
    "            optimizer.step()\n",
    "\n",
    "        # Compute the average loss and accuracy for the epoch .and update the relevant lists\n",
    "        avg_loss = total_loss / (len(sequence) - 1)\n",
    "        avg_accuracy = total_accuracy / (len(sequence) - 1)\n",
    "        losses.append(avg_loss)\n",
    "        accuracies.append(avg_accuracy)\n",
    "\n",
    "        if epoch % 10 == 0:\n",
    "            print(f\"Epoch {epoch}: loss = {avg_loss:.4f}, accuracy = {avg_accuracy:.4f}\")\n",
    "\n",
    "    return model, losses, accuracies"
   ]
  },
  {
   "cell_type": "code",
   "execution_count": 12,
   "id": "e28d633a",
   "metadata": {},
   "outputs": [
    {
     "name": "stdout",
     "output_type": "stream",
     "text": [
      "Epoch 10: loss = 0.6117, accuracy = 0.9000\n",
      "Epoch 20: loss = 0.1211, accuracy = 1.0000\n",
      "Epoch 30: loss = 0.0418, accuracy = 1.0000\n",
      "Epoch 40: loss = 0.0215, accuracy = 1.0000\n",
      "Epoch 50: loss = 0.0132, accuracy = 1.0000\n",
      "Epoch 60: loss = 0.0090, accuracy = 1.0000\n",
      "Epoch 70: loss = 0.0066, accuracy = 1.0000\n",
      "Epoch 80: loss = 0.0050, accuracy = 1.0000\n",
      "Epoch 90: loss = 0.0040, accuracy = 1.0000\n",
      "Epoch 100: loss = 0.0032, accuracy = 1.0000\n"
     ]
    }
   ],
   "source": [
    "# # Generate the training data\n",
    "# sequence = generate_sequence()\n",
    "\n",
    "# Define the number of words and the number of hidden units\n",
    "num_words = len(set(sequence))\n",
    "num_hidden = 10\n",
    "\n",
    "# Initialize the Markov model\n",
    "model = MarkovModel(num_words, num_hidden)\n",
    "\n",
    "# Train the model\n",
    "model, losses, accuracies = train_model(model, sequence, epochs=100)"
   ]
  },
  {
   "cell_type": "code",
   "execution_count": 24,
   "id": "0f7757fb",
   "metadata": {},
   "outputs": [
    {
     "data": {
      "text/plain": [
       "['I',\n",
       " 'had',\n",
       " 'a',\n",
       " 'sandwich',\n",
       " 'for',\n",
       " 'lunch',\n",
       " 'yesterday',\n",
       " 'and',\n",
       " 'it',\n",
       " 'was',\n",
       " 'delicious']"
      ]
     },
     "execution_count": 24,
     "metadata": {},
     "output_type": "execute_result"
    }
   ],
   "source": [
    "sequence"
   ]
  },
  {
   "cell_type": "code",
   "execution_count": 23,
   "id": "f7d7e507",
   "metadata": {},
   "outputs": [
    {
     "name": "stdout",
     "output_type": "stream",
     "text": [
      "had\n",
      "a\n",
      "sandwich\n",
      "for\n",
      "lunch\n",
      "yesterday\n",
      "and\n",
      "it\n",
      "was\n",
      "delicious\n",
      "sandwich\n"
     ]
    }
   ],
   "source": [
    "for i in range(len(sequence)):\n",
    "    print(index_to_word[torch.max(model(torch.tensor([word_to_index[sequence[i]]], dtype=torch.long)), dim=1)[1].item()])\n"
   ]
  },
  {
   "cell_type": "code",
   "execution_count": 13,
   "id": "c76c805a",
   "metadata": {},
   "outputs": [
    {
     "data": {
      "image/png": "[encoded data removed]",
      "text/plain": [
       "<Figure size 640x480 with 1 Axes>"
      ]
     },
     "metadata": {},
     "output_type": "display_data"
    },
    {
     "data": {
      "image/png": "[encoded data removed]",
      "text/plain": [
       "<Figure size 640x480 with 1 Axes>"
      ]
     },
     "metadata": {},
     "output_type": "display_data"
    }
   ],
   "source": [
    "# Plot the training losses\n",
    "plt.plot(losses)\n",
    "plt.xlabel(\"Epoch\")\n",
    "plt.ylabel(\"Loss\")\n",
    "plt.show()\n",
    "\n",
    "# Plot the training accuracy\n",
    "plt.plot(accuracies)\n",
    "plt.xlabel(\"Epoch\")\n",
    "plt.ylabel(\"Accuracy\")\n",
    "plt.show()"
   ]
  },
  {
   "cell_type": "code",
   "execution_count": null,
   "id": "8d43f0cd",
   "metadata": {},
   "outputs": [],
   "source": []
  }
 ],
 "metadata": {
  "kernelspec": {
   "display_name": "Python 3 (ipykernel)",
   "language": "python",
   "name": "python3"
  },
  "language_info": {
   "codemirror_mode": {
    "name": "ipython",
    "version": 3
   },
   "file_extension": ".py",
   "mimetype": "text/x-python",
   "name": "python",
   "nbconvert_exporter": "python",
   "pygments_lexer": "ipython3",
   "version": "3.9.13"
  }
 },
 "nbformat": 4,
 "nbformat_minor": 5
}
